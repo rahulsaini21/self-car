{
  "nbformat": 4,
  "nbformat_minor": 0,
  "metadata": {
    "colab": {
      "provenance": []
    },
    "kernelspec": {
      "name": "python3",
      "display_name": "Python 3"
    },
    "language_info": {
      "name": "python"
    }
  },
  "cells": [
    {
      "cell_type": "code",
      "execution_count": 56,
      "metadata": {
        "id": "oWkSOVsiW9YU"
      },
      "outputs": [],
      "source": [
        "import torch\n",
        "import torch.nn as nn\n",
        "import torch.nn.functional as F\n",
        "\n",
        "import numpy as np\n",
        "import matplotlib.pyplot as plt\n",
        "\n",
        "import torchvision\n",
        "import torchvision.transforms as transforms\n",
        "\n",
        "from torch.utils.data import random_split"
      ]
    },
    {
      "cell_type": "code",
      "source": [
        "transform = transforms.Compose([\n",
        "    transforms.ToTensor(),\n",
        "    transforms.Normalize((0.5,), (0.5,))\n",
        "])\n",
        "\n",
        "train_dataset = torchvision.datasets.MNIST(root='./data', train=True, transform=transform, download=True)\n",
        "\n",
        "\n",
        "test_dataset = torchvision.datasets.MNIST(root='./data', train=False, transform=transform, download=True)\n",
        "\n"
      ],
      "metadata": {
        "id": "aS4HtK16XF1D"
      },
      "execution_count": 57,
      "outputs": []
    },
    {
      "cell_type": "code",
      "source": [
        "train_dataset_data = train_dataset.data\n",
        "train_dataset_target = train_dataset.targets\n",
        "print(train_dataset_data.size())\n",
        "print(train_dataset_target.size())\n",
        "\n",
        "\n",
        "test_dataset_data = test_dataset.data\n",
        "test_dataset_target = test_dataset.targets"
      ],
      "metadata": {
        "colab": {
          "base_uri": "https://localhost:8080/"
        },
        "id": "FNANZiigXKHG",
        "outputId": "3fda99a8-36ac-42ba-c305-ea9004cac138"
      },
      "execution_count": 58,
      "outputs": [
        {
          "output_type": "stream",
          "name": "stdout",
          "text": [
            "torch.Size([60000, 28, 28])\n",
            "torch.Size([60000])\n"
          ]
        }
      ]
    },
    {
      "cell_type": "code",
      "source": [
        "train_dataset_target_us = train_dataset_target.unsqueeze(1)\n",
        "train_onehot_labels = torch.zeros(train_dataset_data.size(0), 10)\n",
        "train_onehot_labels.scatter_(1, train_dataset_target_us, 1)\n",
        "\n",
        "test_dataset_target_us = test_dataset_target.unsqueeze(1)\n",
        "test_onehot_labels = torch.zeros(test_dataset_data.size(0), 10)\n",
        "test_onehot_labels.scatter_(1, test_dataset_target_us, 1)"
      ],
      "metadata": {
        "colab": {
          "base_uri": "https://localhost:8080/"
        },
        "id": "geTOwQnMXMRV",
        "outputId": "2370f94b-179e-4850-c3c1-62733d10e5cb"
      },
      "execution_count": 59,
      "outputs": [
        {
          "output_type": "execute_result",
          "data": {
            "text/plain": [
              "tensor([[0., 0., 0.,  ..., 1., 0., 0.],\n",
              "        [0., 0., 1.,  ..., 0., 0., 0.],\n",
              "        [0., 1., 0.,  ..., 0., 0., 0.],\n",
              "        ...,\n",
              "        [0., 0., 0.,  ..., 0., 0., 0.],\n",
              "        [0., 0., 0.,  ..., 0., 0., 0.],\n",
              "        [0., 0., 0.,  ..., 0., 0., 0.]])"
            ]
          },
          "metadata": {},
          "execution_count": 59
        }
      ]
    },
    {
      "cell_type": "code",
      "source": [
        "train_loader = torch.utils.data.DataLoader(torch.utils.data.TensorDataset(train_dataset_data, train_onehot_labels), batch_size=64, shuffle=True)\n",
        "test_loader = torch.utils.data.DataLoader(torch.utils.data.TensorDataset(test_dataset_data, test_onehot_labels), batch_size=64, shuffle=False)"
      ],
      "metadata": {
        "id": "0Bqdk-vBXMmS"
      },
      "execution_count": 60,
      "outputs": []
    },
    {
      "cell_type": "code",
      "source": [
        "class NeuralNetwork(nn.Module):\n",
        "    def __init__(self):\n",
        "        super(NeuralNetwork, self).__init__()\n",
        "        self.flatten = nn.Flatten()\n",
        "        self.linear_relu_stack = nn.Sequential(\n",
        "            nn.Linear(28*28, 200),\n",
        "            nn.ReLU(),\n",
        "            nn.Linear(200, 200),\n",
        "            nn.ReLU(),\n",
        "            nn.Linear(200, 10),\n",
        "        )\n",
        "\n",
        "    def forward(self, x):\n",
        "        x = self.flatten(x)\n",
        "        x = x.float()\n",
        "        logits = self.linear_relu_stack(x)\n",
        "        out = F.softmax(logits, dim=1)\n",
        "        return out"
      ],
      "metadata": {
        "id": "3qWwXk7cXbhk"
      },
      "execution_count": 61,
      "outputs": []
    },
    {
      "cell_type": "code",
      "source": [],
      "metadata": {
        "id": "wmqIJqJN2Dbo"
      },
      "execution_count": 62,
      "outputs": []
    },
    {
      "cell_type": "code",
      "source": [
        "class SGD:\n",
        "    def __init__(self, parameters, lr=0.01):\n",
        "        self.params = parameters\n",
        "        self.lr = lr\n",
        "\n",
        "    def step(self):\n",
        "        for param in self.params:\n",
        "            param -= self.lr * param.grad\n",
        "\n",
        "    def zero_grad(self):\n",
        "        for param in self.params:\n",
        "            param.grad = None\n"
      ],
      "metadata": {
        "id": "ZBNNhk9T4RLi"
      },
      "execution_count": 63,
      "outputs": []
    },
    {
      "cell_type": "code",
      "source": [
        "class Momentum:\n",
        "    def __init__(self, parameters, lr=0.01, momentum=0.9):\n",
        "        self.params = parameters\n",
        "        self.lr = lr\n",
        "        self.momentum = momentum\n",
        "        self.velocities = [torch.zeros_like(param) for param in self.params]\n",
        "\n",
        "    def step(self):\n",
        "        for i, param in enumerate(self.params):\n",
        "            self.velocities[i] = self.momentum * self.velocities[i] + self.lr * param.grad\n",
        "            param -= self.velocities[i]\n",
        "\n",
        "    def zero_grad(self):\n",
        "        for param in self.params:\n",
        "            param.grad = None\n"
      ],
      "metadata": {
        "id": "pO30fo2c4ZV0"
      },
      "execution_count": 64,
      "outputs": []
    },
    {
      "cell_type": "code",
      "source": [
        "class NAG:\n",
        "    def __init__(self, parameters, lr=0.01, momentum=0.9):\n",
        "        self.params = parameters\n",
        "        self.lr = lr\n",
        "        self.momentum = momentum\n",
        "        self.velocities = [torch.zeros_like(param) for param in self.params]\n",
        "\n",
        "    def step(self):\n",
        "        for i, param in enumerate(self.params):\n",
        "            self.velocities[i] = self.momentum * self.velocities[i] - self.lr * param.grad\n",
        "            param += self.momentum * self.momentum * self.velocities[i] - (1 + self.momentum) * self.lr * param.grad\n",
        "\n",
        "    def zero_grad(self):\n",
        "        for param in self.params:\n",
        "            param.grad = None\n"
      ],
      "metadata": {
        "id": "FJGjmww-4gqC"
      },
      "execution_count": 65,
      "outputs": []
    },
    {
      "cell_type": "code",
      "source": [
        "class AdaGrad:\n",
        "    def __init__(self, parameters, lr=0.01, eps=1e-8):\n",
        "        self.params = parameters\n",
        "        self.lr = lr\n",
        "        self.eps = eps\n",
        "        self.sum_squared_grad = [torch.zeros_like(param) for param in self.params]\n",
        "\n",
        "    def step(self):\n",
        "        for i, param in enumerate(self.params):\n",
        "            self.sum_squared_grad[i] += param.grad ** 2\n",
        "            param -= self.lr * param.grad / (torch.sqrt(self.sum_squared_grad[i]) + self.eps)\n",
        "\n",
        "    def zero_grad(self):\n",
        "        for param in self.params:\n",
        "            param.grad = None\n"
      ],
      "metadata": {
        "id": "gHyyvOJD4sWY"
      },
      "execution_count": 66,
      "outputs": []
    },
    {
      "cell_type": "code",
      "source": [
        "class RMSprop:\n",
        "    def __init__(self, parameters, lr=0.01, beta=0.9, eps=1e-8):\n",
        "        self.params = parameters\n",
        "        self.lr = lr\n",
        "        self.beta = beta\n",
        "        self.eps = eps\n",
        "        self.avg_squared_grad = [torch.zeros_like(param) for param in self.params]\n",
        "\n",
        "    def step(self):\n",
        "        for i, param in enumerate(self.params):\n",
        "            self.avg_squared_grad[i] = self.beta * self.avg_squared_grad[i] + (1 - self.beta) * (param.grad ** 2)\n",
        "            param -= self.lr * param.grad / (torch.sqrt(self.avg_squared_grad[i]) + self.eps)\n",
        "\n",
        "    def zero_grad(self):\n",
        "        for param in self.params:\n",
        "            param.grad = None\n"
      ],
      "metadata": {
        "id": "12qGF4d24ydE"
      },
      "execution_count": 67,
      "outputs": []
    },
    {
      "cell_type": "code",
      "source": [
        "class Adam:\n",
        "    def __init__(self, parameters, lr=0.001, beta1=0.9, beta2=0.999, eps=1e-8):\n",
        "        self.params = parameters\n",
        "        self.lr = lr\n",
        "        self.beta1 = beta1\n",
        "        self.beta2 = beta2\n",
        "        self.eps = eps\n",
        "        self.m = [torch.zeros_like(param) for param in self.params]\n",
        "        self.v = [torch.zeros_like(param) for param in self.params]\n",
        "\n",
        "    def step(self):\n",
        "        for i, (param, grad) in enumerate(zip(self.params, [p.grad for p in self.params])):\n",
        "            self.m[i] = self.beta1 * self.m[i] + (1 - self.beta1) * grad\n",
        "            self.v[i] = self.beta2 * self.v[i] + (1 - self.beta2) * (grad ** 2)\n",
        "            m_hat = self.m[i]\n",
        "            v_hat = self.v[i]\n",
        "            param -= self.lr * m_hat / (torch.sqrt(v_hat) + self.eps)\n",
        "\n",
        "    def zero_grad(self):\n",
        "        for param in self.params:\n",
        "            param.grad = None\n"
      ],
      "metadata": {
        "id": "9Yr5eJNw46_a"
      },
      "execution_count": 68,
      "outputs": []
    },
    {
      "cell_type": "code",
      "source": [
        "class AdamBias:\n",
        "    def __init__(self, parameters, lr=0.001, beta1=0.9, beta2=0.999, eps=1e-8):\n",
        "        self.params = parameters\n",
        "        self.lr = lr\n",
        "        self.beta1 = beta1\n",
        "        self.beta2 = beta2\n",
        "        self.eps = eps\n",
        "        self.m = [torch.zeros_like(param) for param in self.params]\n",
        "        self.v = [torch.zeros_like(param) for param in self.params]\n",
        "        self.t = 0\n",
        "\n",
        "    def step(self):\n",
        "        self.t += 1\n",
        "        for i, (param, grad) in enumerate(zip(self.params, [p.grad for p in self.params])):\n",
        "            self.m[i] = self.beta1 * self.m[i] + (1 - self.beta1) * grad\n",
        "            self.v[i] = self.beta2 * self.v[i] + (1 - self.beta2) * (grad ** 2)\n",
        "            m_hat = self.m[i] / (1 - self.beta1 ** self.t)\n",
        "            v_hat = self.v[i] / (1 - self.beta2 ** self.t)\n",
        "            param -= self.lr * m_hat / (torch.sqrt(v_hat) + self.eps)\n",
        "\n",
        "    def zero_grad(self):\n",
        "        for param in self.params:\n",
        "            param.grad = None\n"
      ],
      "metadata": {
        "id": "BIh5DYRL5CUL"
      },
      "execution_count": 69,
      "outputs": []
    },
    {
      "cell_type": "code",
      "source": [
        "\n",
        "\n",
        "def train_model(model,optimizer,train_loader,val_loader, epochs=2, lr = 0.0001):\n",
        "  epochs = epochs\n",
        "  lrate = lr\n",
        "\n",
        "\n",
        "  for ep in range(epochs):\n",
        "      model.train()\n",
        "\n",
        "      train_loss = 0.0\n",
        "      for x, y in train_loader:\n",
        "          x, y = x, y.float()  # Convert y to float\n",
        "\n",
        "\n",
        "          model.zero_grad()\n",
        "          out = model(x)\n",
        "\n",
        "\n",
        "          loss = F.mse_loss(out, y)\n",
        "          loss.backward()\n",
        "\n",
        "          train_loss += loss\n",
        "          optimizer.step()\n",
        "\n",
        "\n",
        "      model.eval()\n",
        "\n",
        "      val_loss = 0.0\n",
        "      for x, y in test_loader:\n",
        "          x, y = x, y.float()\n",
        "\n",
        "          out = model(x)\n",
        "\n",
        "          out = torch.argmax(out, dim=1).float()\n",
        "          y = torch.argmax(y, dim=1).float()\n",
        "          loss = F.mse_loss(out, y)\n",
        "\n",
        "          val_loss += loss\n",
        "\n",
        "      if ep%10 == 0:\n",
        "          print('\\n%10d %20.5e %20.5e\\n'%(ep,\n",
        "                  train_loss.item()/(ntrain/batchsize),\n",
        "                  val_loss.item()/(nval/val_bs)))\n",
        "\n",
        "          plt.figure(figsize=[10,4])\n",
        "          plt.plot(out.detach().cpu().numpy(),'o',label='pred',markersize=8.5)\n",
        "          plt.plot(y.detach().cpu().numpy(),'.',label='true',markersize=8.5)\n",
        "          plt.xlabel(f'validation samples (after epoch {ep})',fontsize = 18)\n",
        "          plt.legend(fontsize=18, loc='upper right')\n",
        "          plt.show()"
      ],
      "metadata": {
        "id": "tjuGl9Q4ZbSY"
      },
      "execution_count": 71,
      "outputs": []
    },
    {
      "cell_type": "code",
      "source": [
        "ntrain = 60000\n",
        "nval = 10000\n",
        "ntest = 10000\n",
        "\n",
        "batchsize = 500\n",
        "val_bs = 100\n",
        "tst_bs = 100\n",
        "\n",
        "\n",
        "lrate = 0.0001\n",
        "\n",
        "# Initialize the model\n",
        "model = NeuralNetwork()\n",
        "\n",
        "# Initialize the optimizer\n",
        "# optimizer = torch.optim.Adam(\n",
        "#                   model.parameters(),\n",
        "#                   lr=lrate)\n",
        "\n",
        "# optimizer = SGD(model.parameters())\n",
        "# optimizer = Momentum(model.parameters())\n",
        "# optimizer = NAG(model.parameters())\n",
        "# optimizer = AdaGrad(model.parameters())\n",
        "# optimizer = RMSprop(model.parameters())\n",
        "# optimizer = Adam(model.parameters())\n",
        "optimizer = AdamBias(model.parameters())\n",
        "\n",
        "\n",
        "train_model(model, optimizer, train_loader, test_loader)"
      ],
      "metadata": {
        "colab": {
          "base_uri": "https://localhost:8080/",
          "height": 450
        },
        "id": "IFbioVS0cWtD",
        "outputId": "563ee9a0-c13a-4602-872a-0ae7f44233e7"
      },
      "execution_count": 78,
      "outputs": [
        {
          "output_type": "stream",
          "name": "stdout",
          "text": [
            "\n",
            "         0          1.20289e+00          3.08191e+01\n",
            "\n"
          ]
        },
        {
          "output_type": "display_data",
          "data": {
            "text/plain": [
              "<Figure size 1000x400 with 1 Axes>"
            ],
            "image/png": "[encoded data removed]"
          },
          "metadata": {}
        }
      ]
    },
    {
      "cell_type": "code",
      "source": [],
      "metadata": {
        "id": "wmAhKyK4clHK"
      },
      "execution_count": 72,
      "outputs": []
    }
  ]
}